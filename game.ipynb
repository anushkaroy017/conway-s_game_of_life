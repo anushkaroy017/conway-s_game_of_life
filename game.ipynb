{
  "nbformat": 4,
  "nbformat_minor": 0,
  "metadata": {
    "colab": {
      "provenance": []
    },
    "kernelspec": {
      "name": "python3",
      "display_name": "Python 3"
    },
    "language_info": {
      "name": "python"
    }
  },
  "cells": [
    {
      "cell_type": "code",
      "execution_count": null,
      "metadata": {
        "id": "EZKv8gUjk2IZ"
      },
      "outputs": [],
      "source": []
    },
    {
      "cell_type": "code",
      "source": [
        "import numpy as np\n",
        "import matplotlib.pyplot as plt\n",
        "import matplotlib.animation as animation\n",
        "\n",
        "def create_grid(rows, cols):\n",
        "    return np.zeros((rows, cols), dtype=int)\n",
        "\n",
        "def update_grid(grid):\n",
        "    rows, cols = grid.shape\n",
        "    new_grid = grid.copy()\n",
        "\n",
        "    for row in range(rows):\n",
        "        for col in range(cols):\n",
        "            live_neighbors = np.sum(grid[row-1:row+2, col-1:col+2]) - grid[row, col]\n",
        "\n",
        "            if grid[row, col] == 1:\n",
        "                if live_neighbors < 2 or live_neighbors > 3:\n",
        "                    new_grid[row, col] = 0\n",
        "            else:\n",
        "                if live_neighbors == 3:\n",
        "                    new_grid[row, col] = 1\n",
        "\n",
        "    return new_grid\n",
        "\n",
        "def initialize_grid(grid, initial_live_cells):\n",
        "    for (row, col) in initial_live_cells:\n",
        "        grid[row, col] = 1\n",
        "    return grid\n",
        "\n",
        "def display_grid(grid, interval=200):\n",
        "    fig, ax = plt.subplots()\n",
        "    img = ax.imshow(grid, cmap='binary', interpolation='none')\n",
        "\n",
        "    def update(data):\n",
        "        img.set_data(data)\n",
        "        return img,\n",
        "\n",
        "    def data_gen():\n",
        "        nonlocal grid\n",
        "        while True:\n",
        "            grid = update_grid(grid)\n",
        "            yield grid\n",
        "\n",
        "    ax.set_xticks(np.arange(-0.5, grid.shape[1], 1), minor=True)\n",
        "    ax.set_yticks(np.arange(-0.5, grid.shape[0], 1), minor=True)\n",
        "    ax.grid(which=\"minor\", color=\"gray\", linestyle='-', linewidth=0.5)\n",
        "    ax.tick_params(which=\"minor\", size=0)\n",
        "\n",
        "    ani = animation.FuncAnimation(fig, update, frames=data_gen, interval=interval, blit=True, cache_frame_data=False)\n",
        "    plt.show()\n",
        "    return ani\n",
        "\n",
        "def main():\n",
        "    rows, cols = 50, 50\n",
        "    grid = create_grid(rows, cols)\n",
        "\n",
        "    initial_live_cells = [\n",
        "        (1, 2), (2, 3), (3, 1), (3, 2), (3, 3)\n",
        "    ]\n",
        "\n",
        "    grid = initialize_grid(grid, initial_live_cells)\n",
        "    ani = display_grid(grid)\n",
        "\n",
        "if __name__ == \"__main__\":\n",
        "    main()\n"
      ],
      "metadata": {
        "colab": {
          "base_uri": "https://localhost:8080/",
          "height": 432
        },
        "id": "Ks0JHoyUj-tx",
        "outputId": "8d763092-b8e3-444c-becc-101c6671aba9"
      },
      "execution_count": null,
      "outputs": [
        {
          "output_type": "display_data",
          "data": {
            "text/plain": [
              "<Figure size 640x480 with 1 Axes>"
            ],
            "image/png": "[encoded data removed]"
          },
          "metadata": {}
        }
      ]
    }
  ]
}